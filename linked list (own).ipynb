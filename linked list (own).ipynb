{
 "cells": [
  {
   "cell_type": "markdown",
   "id": "934c1ca0",
   "metadata": {},
   "source": [
    "# creating my own linkedlist and all it's functions"
   ]
  },
  {
   "cell_type": "code",
   "execution_count": 85,
   "id": "4976cc68",
   "metadata": {},
   "outputs": [],
   "source": [
    "class Node:\n",
    "    def __init__(self, value):\n",
    "        \n",
    "        self.data = value\n",
    "        self.next = None\n",
    "        \n",
    "        \n",
    "class LinkedList:\n",
    "    \n",
    "    def __init__(self):\n",
    "        #empty linked list\n",
    "        self.head = None\n",
    "        #size of the ll\n",
    "        self.n = 0\n",
    "        \n",
    "        \n",
    "    def __len__(self):\n",
    "        return self.n\n",
    "    \n",
    "    def __str__(self):\n",
    "        curr = self.head\n",
    "        result = \"\"\n",
    "        while curr != None:\n",
    "            result = result + str(curr.data) + \"->\"\n",
    "            curr= curr.next\n",
    "        return result[:-2]\n",
    "            \n",
    "    \n",
    "    def head_insert(self, value):\n",
    "        # create a new node with the value\n",
    "        new_node = Node(value)\n",
    "        # new node add will store the address of previous head\n",
    "        new_node.next = self.head\n",
    "        # reasiign the new node as head\n",
    "        self.head = new_node\n",
    "        # inc the size of the ll\n",
    "        self.n = self.n + 1\n",
    "        \n",
    "    def append(self, value):\n",
    "        # create a new node with the value\n",
    "        new_node = Node(value)\n",
    "        # check if the ll is empty then add the value as the first node\n",
    "        if self.head == None:\n",
    "            self.head = new_node\n",
    "            self.n = self.n + 1\n",
    "            return\n",
    "        # storing the head data in curr\n",
    "        curr = self.head\n",
    "        # checking if the add of the node is None(this will iterate us to the last node)\n",
    "        while curr.next != None:\n",
    "            curr = curr.next\n",
    "        # once reached the last node we will assign the new node add to the last node    \n",
    "        curr.next = new_node\n",
    "        # inc the size of ll\n",
    "        self.n = self.n + 1  \n",
    "        \n",
    "    def insert_after(self, after, value):\n",
    "        # create a new node with the value\n",
    "        new_node = Node(value)\n",
    "        # storing the head data in curr\n",
    "        curr = self.head\n",
    "        # iterating through all the data of ll\n",
    "        while curr != None:\n",
    "            # checking if the data is same as the user is looking for if yes we will break the loop\n",
    "            if curr.data == after:\n",
    "                break\n",
    "            # changing the curr value by the next data  \n",
    "            curr = curr.next\n",
    "        # checking if the data is None\n",
    "        if curr != None:\n",
    "            # new node will store the add of the next node\n",
    "            new_node.next = curr.next\n",
    "            # the previous node will store the add of new node\n",
    "            curr.next = new_node\n",
    "            # inc the size of ll\n",
    "            self.n = self.n + 1\n",
    "        \n",
    "        else:\n",
    "            return \"item not found\"\n",
    "            \n",
    "        \n",
    "    def clear(self):\n",
    "        self.head = None\n",
    "        self.n = 0\n",
    "        \n",
    "    def delete_head(self):\n",
    "        \n",
    "        if self.head == None:\n",
    "            return \"empty linked list\"\n",
    "        \n",
    "        self.head = self.head.next\n",
    "        self.n = self.n -1\n",
    "        \n",
    "    def pop(self):\n",
    "        \n",
    "        curr = self.head\n",
    "        \n",
    "        if curr == None:\n",
    "            return \"enpty linked list\"\n",
    "        \n",
    "        elif curr.next == None:\n",
    "            return self.delete_head()\n",
    "        \n",
    "        else:\n",
    "            while curr.next.next != None:\n",
    "                curr = curr.next\n",
    "                \n",
    "            curr.next = None\n",
    "            self.n = self.n -1\n",
    "            \n",
    "        \n",
    "    def remove(self, value):\n",
    "        \n",
    "        curr = self.head\n",
    "        if curr == None:\n",
    "            return \"enpty linked list\"\n",
    "        \n",
    "        elif curr.data == value:\n",
    "            return self.delete_head()\n",
    "        \n",
    "        while curr.next != None:\n",
    "            if curr.next.data == value:\n",
    "                break\n",
    "            curr = curr.next\n",
    "            \n",
    "        if curr.next == value:\n",
    "            return \"not  found\"\n",
    "        else:\n",
    "            curr.next = curr.next.next\n",
    "                \n",
    "            self.n = self.n -1 \n",
    "            \n",
    "    def search(self, value):\n",
    "        \n",
    "                \n",
    "        \n",
    "        \n",
    "        "
   ]
  },
  {
   "cell_type": "code",
   "execution_count": 86,
   "id": "a9f1d6ef",
   "metadata": {},
   "outputs": [],
   "source": [
    "L = LinkedList()"
   ]
  },
  {
   "cell_type": "code",
   "execution_count": 87,
   "id": "dd12f013",
   "metadata": {},
   "outputs": [
    {
     "data": {
      "text/plain": [
       "0"
      ]
     },
     "execution_count": 87,
     "metadata": {},
     "output_type": "execute_result"
    }
   ],
   "source": [
    "len(L)"
   ]
  },
  {
   "cell_type": "code",
   "execution_count": 88,
   "id": "3f656ee1",
   "metadata": {},
   "outputs": [],
   "source": [
    "L.append(1)\n",
    "L.append(2)\n",
    "L.append(3)\n",
    "L.append(4)\n",
    "L.head_insert(8)"
   ]
  },
  {
   "cell_type": "code",
   "execution_count": 89,
   "id": "3dd47db1",
   "metadata": {},
   "outputs": [
    {
     "name": "stdout",
     "output_type": "stream",
     "text": [
      "8->1->2->3->4\n"
     ]
    }
   ],
   "source": [
    "print(L)"
   ]
  },
  {
   "cell_type": "code",
   "execution_count": 90,
   "id": "93f3c25f",
   "metadata": {},
   "outputs": [],
   "source": [
    "L.insert_after(2, 9)"
   ]
  },
  {
   "cell_type": "code",
   "execution_count": 91,
   "id": "830c090b",
   "metadata": {},
   "outputs": [
    {
     "name": "stdout",
     "output_type": "stream",
     "text": [
      "8->1->2->9->3->4\n"
     ]
    }
   ],
   "source": [
    "print(L)"
   ]
  },
  {
   "cell_type": "code",
   "execution_count": 49,
   "id": "6219d5e3",
   "metadata": {},
   "outputs": [],
   "source": [
    "L.delete_head()"
   ]
  },
  {
   "cell_type": "code",
   "execution_count": 50,
   "id": "11fec255",
   "metadata": {},
   "outputs": [
    {
     "name": "stdout",
     "output_type": "stream",
     "text": [
      "1->2->9->3->4\n"
     ]
    }
   ],
   "source": [
    "print(L)"
   ]
  },
  {
   "cell_type": "code",
   "execution_count": 51,
   "id": "dda6d102",
   "metadata": {},
   "outputs": [],
   "source": [
    "L.pop()"
   ]
  },
  {
   "cell_type": "code",
   "execution_count": 93,
   "id": "0e489daf",
   "metadata": {},
   "outputs": [
    {
     "name": "stdout",
     "output_type": "stream",
     "text": [
      "8->1->2->9->3\n"
     ]
    }
   ],
   "source": [
    "print(L)"
   ]
  },
  {
   "cell_type": "code",
   "execution_count": 92,
   "id": "a6a7cdcf",
   "metadata": {},
   "outputs": [],
   "source": [
    "L.remove(4)"
   ]
  },
  {
   "cell_type": "code",
   "execution_count": null,
   "id": "cccc8a26",
   "metadata": {},
   "outputs": [],
   "source": []
  }
 ],
 "metadata": {
  "kernelspec": {
   "display_name": "Python 3 (ipykernel)",
   "language": "python",
   "name": "python3"
  },
  "language_info": {
   "codemirror_mode": {
    "name": "ipython",
    "version": 3
   },
   "file_extension": ".py",
   "mimetype": "text/x-python",
   "name": "python",
   "nbconvert_exporter": "python",
   "pygments_lexer": "ipython3",
   "version": "3.11.5"
  }
 },
 "nbformat": 4,
 "nbformat_minor": 5
}
